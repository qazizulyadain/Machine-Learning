{
 "cells": [
  {
   "cell_type": "markdown",
   "metadata": {},
   "source": [
    "### **Creating Multi Linear Regression From Scratch**"
   ]
  },
  {
   "cell_type": "code",
   "execution_count": 44,
   "metadata": {},
   "outputs": [
    {
     "data": {
      "text/html": [
       "<div>\n",
       "<style scoped>\n",
       "    .dataframe tbody tr th:only-of-type {\n",
       "        vertical-align: middle;\n",
       "    }\n",
       "\n",
       "    .dataframe tbody tr th {\n",
       "        vertical-align: top;\n",
       "    }\n",
       "\n",
       "    .dataframe thead th {\n",
       "        text-align: right;\n",
       "    }\n",
       "</style>\n",
       "<table border=\"1\" class=\"dataframe\">\n",
       "  <thead>\n",
       "    <tr style=\"text-align: right;\">\n",
       "      <th></th>\n",
       "      <th>Experience_Years</th>\n",
       "      <th>Education_Level</th>\n",
       "      <th>Age</th>\n",
       "      <th>Job_Role</th>\n",
       "      <th>Work_Hours_per_Week</th>\n",
       "      <th>Annual_Income</th>\n",
       "      <th>Salary</th>\n",
       "    </tr>\n",
       "  </thead>\n",
       "  <tbody>\n",
       "    <tr>\n",
       "      <th>0</th>\n",
       "      <td>7</td>\n",
       "      <td>4</td>\n",
       "      <td>30</td>\n",
       "      <td>2</td>\n",
       "      <td>50</td>\n",
       "      <td>97843</td>\n",
       "      <td>28084.308810</td>\n",
       "    </tr>\n",
       "    <tr>\n",
       "      <th>1</th>\n",
       "      <td>20</td>\n",
       "      <td>2</td>\n",
       "      <td>43</td>\n",
       "      <td>2</td>\n",
       "      <td>32</td>\n",
       "      <td>69901</td>\n",
       "      <td>50897.324856</td>\n",
       "    </tr>\n",
       "    <tr>\n",
       "      <th>2</th>\n",
       "      <td>15</td>\n",
       "      <td>3</td>\n",
       "      <td>25</td>\n",
       "      <td>2</td>\n",
       "      <td>55</td>\n",
       "      <td>41205</td>\n",
       "      <td>49490.956361</td>\n",
       "    </tr>\n",
       "    <tr>\n",
       "      <th>3</th>\n",
       "      <td>11</td>\n",
       "      <td>3</td>\n",
       "      <td>47</td>\n",
       "      <td>1</td>\n",
       "      <td>59</td>\n",
       "      <td>85661</td>\n",
       "      <td>37374.291216</td>\n",
       "    </tr>\n",
       "    <tr>\n",
       "      <th>4</th>\n",
       "      <td>8</td>\n",
       "      <td>3</td>\n",
       "      <td>50</td>\n",
       "      <td>1</td>\n",
       "      <td>52</td>\n",
       "      <td>35906</td>\n",
       "      <td>23410.427602</td>\n",
       "    </tr>\n",
       "  </tbody>\n",
       "</table>\n",
       "</div>"
      ],
      "text/plain": [
       "   Experience_Years  Education_Level  Age  Job_Role  Work_Hours_per_Week  \\\n",
       "0                 7                4   30         2                   50   \n",
       "1                20                2   43         2                   32   \n",
       "2                15                3   25         2                   55   \n",
       "3                11                3   47         1                   59   \n",
       "4                 8                3   50         1                   52   \n",
       "\n",
       "   Annual_Income        Salary  \n",
       "0          97843  28084.308810  \n",
       "1          69901  50897.324856  \n",
       "2          41205  49490.956361  \n",
       "3          85661  37374.291216  \n",
       "4          35906  23410.427602  "
      ]
     },
     "execution_count": 44,
     "metadata": {},
     "output_type": "execute_result"
    }
   ],
   "source": [
    "# Reimport necessary libraries due to code execution state reset\n",
    "import pandas as pd\n",
    "import numpy as np\n",
    "\n",
    "# Set random seed for reproducibility\n",
    "np.random.seed(42)\n",
    "\n",
    "# Number of samples\n",
    "num_samples = 500\n",
    "\n",
    "# Generate dataset\n",
    "data = {\n",
    "    \"Experience_Years\": np.random.randint(1, 21, size=num_samples),  # Years of experience\n",
    "    \"Education_Level\": np.random.choice([\"High School\", \"Bachelor's\", \"Master's\", \"PhD\"], size=num_samples, p=[0.2, 0.5, 0.2, 0.1]),\n",
    "    \"Age\": np.random.randint(22, 60, size=num_samples),  # Age of the person\n",
    "    \"Job_Role\": np.random.choice([\"Analyst\", \"Engineer\", \"Manager\", \"Executive\"], size=num_samples, p=[0.4, 0.3, 0.2, 0.1]),\n",
    "    \"Work_Hours_per_Week\": np.random.randint(30, 60, size=num_samples),  # Weekly work hours\n",
    "    \"Annual_Income\": np.random.randint(30000, 120000, size=num_samples),  # Annual income in USD\n",
    "}\n",
    "\n",
    "# Create DataFrame\n",
    "df = pd.DataFrame(data)\n",
    "\n",
    "# Convert categorical data to numeric for regression purposes\n",
    "df[\"Education_Level\"] = df[\"Education_Level\"].map({\n",
    "    \"High School\": 1,\n",
    "    \"Bachelor's\": 2,\n",
    "    \"Master's\": 3,\n",
    "    \"PhD\": 4\n",
    "})\n",
    "\n",
    "df[\"Job_Role\"] = df[\"Job_Role\"].map({\n",
    "    \"Analyst\": 1,\n",
    "    \"Engineer\": 2,\n",
    "    \"Manager\": 3,\n",
    "    \"Executive\": 4\n",
    "})\n",
    "\n",
    "# Add a dependent variable (Target)\n",
    "# Hypothetical formula for generating income based on other variables\n",
    "df[\"Salary\"] = (\n",
    "    2000 * df[\"Experience_Years\"] + \n",
    "    3000 * df[\"Education_Level\"] +\n",
    "    500 * (df[\"Work_Hours_per_Week\"] / 40) +\n",
    "    np.random.normal(0, 5000, size=num_samples)  # Adding noise for variability\n",
    ")\n",
    "\n",
    "df.head()\n"
   ]
  },
  {
   "cell_type": "markdown",
   "metadata": {},
   "source": [
    "### Feature engineering:\n",
    "Convert Salary to thousands (thousands) like 20k "
   ]
  },
  {
   "cell_type": "code",
   "execution_count": 45,
   "metadata": {},
   "outputs": [],
   "source": [
    "\n",
    "df[\"Salary\"] = (df[\"Salary\"] / 1000).round(1)\n"
   ]
  },
  {
   "cell_type": "code",
   "execution_count": 46,
   "metadata": {},
   "outputs": [],
   "source": [
    "df['Annual_Income'] = (df[\"Annual_Income\"] / 1000).round(1)"
   ]
  },
  {
   "cell_type": "code",
   "execution_count": 47,
   "metadata": {},
   "outputs": [
    {
     "data": {
      "text/html": [
       "<div>\n",
       "<style scoped>\n",
       "    .dataframe tbody tr th:only-of-type {\n",
       "        vertical-align: middle;\n",
       "    }\n",
       "\n",
       "    .dataframe tbody tr th {\n",
       "        vertical-align: top;\n",
       "    }\n",
       "\n",
       "    .dataframe thead th {\n",
       "        text-align: right;\n",
       "    }\n",
       "</style>\n",
       "<table border=\"1\" class=\"dataframe\">\n",
       "  <thead>\n",
       "    <tr style=\"text-align: right;\">\n",
       "      <th></th>\n",
       "      <th>Experience_Years</th>\n",
       "      <th>Education_Level</th>\n",
       "      <th>Age</th>\n",
       "      <th>Job_Role</th>\n",
       "      <th>Work_Hours_per_Week</th>\n",
       "      <th>Annual_Income</th>\n",
       "      <th>Salary</th>\n",
       "    </tr>\n",
       "  </thead>\n",
       "  <tbody>\n",
       "    <tr>\n",
       "      <th>0</th>\n",
       "      <td>7</td>\n",
       "      <td>4</td>\n",
       "      <td>30</td>\n",
       "      <td>2</td>\n",
       "      <td>50</td>\n",
       "      <td>97.8</td>\n",
       "      <td>28.1</td>\n",
       "    </tr>\n",
       "    <tr>\n",
       "      <th>1</th>\n",
       "      <td>20</td>\n",
       "      <td>2</td>\n",
       "      <td>43</td>\n",
       "      <td>2</td>\n",
       "      <td>32</td>\n",
       "      <td>69.9</td>\n",
       "      <td>50.9</td>\n",
       "    </tr>\n",
       "    <tr>\n",
       "      <th>2</th>\n",
       "      <td>15</td>\n",
       "      <td>3</td>\n",
       "      <td>25</td>\n",
       "      <td>2</td>\n",
       "      <td>55</td>\n",
       "      <td>41.2</td>\n",
       "      <td>49.5</td>\n",
       "    </tr>\n",
       "    <tr>\n",
       "      <th>3</th>\n",
       "      <td>11</td>\n",
       "      <td>3</td>\n",
       "      <td>47</td>\n",
       "      <td>1</td>\n",
       "      <td>59</td>\n",
       "      <td>85.7</td>\n",
       "      <td>37.4</td>\n",
       "    </tr>\n",
       "    <tr>\n",
       "      <th>4</th>\n",
       "      <td>8</td>\n",
       "      <td>3</td>\n",
       "      <td>50</td>\n",
       "      <td>1</td>\n",
       "      <td>52</td>\n",
       "      <td>35.9</td>\n",
       "      <td>23.4</td>\n",
       "    </tr>\n",
       "    <tr>\n",
       "      <th>...</th>\n",
       "      <td>...</td>\n",
       "      <td>...</td>\n",
       "      <td>...</td>\n",
       "      <td>...</td>\n",
       "      <td>...</td>\n",
       "      <td>...</td>\n",
       "      <td>...</td>\n",
       "    </tr>\n",
       "    <tr>\n",
       "      <th>495</th>\n",
       "      <td>5</td>\n",
       "      <td>2</td>\n",
       "      <td>58</td>\n",
       "      <td>1</td>\n",
       "      <td>37</td>\n",
       "      <td>67.8</td>\n",
       "      <td>14.3</td>\n",
       "    </tr>\n",
       "    <tr>\n",
       "      <th>496</th>\n",
       "      <td>3</td>\n",
       "      <td>2</td>\n",
       "      <td>25</td>\n",
       "      <td>4</td>\n",
       "      <td>34</td>\n",
       "      <td>88.5</td>\n",
       "      <td>20.8</td>\n",
       "    </tr>\n",
       "    <tr>\n",
       "      <th>497</th>\n",
       "      <td>11</td>\n",
       "      <td>3</td>\n",
       "      <td>49</td>\n",
       "      <td>2</td>\n",
       "      <td>57</td>\n",
       "      <td>94.4</td>\n",
       "      <td>29.3</td>\n",
       "    </tr>\n",
       "    <tr>\n",
       "      <th>498</th>\n",
       "      <td>11</td>\n",
       "      <td>2</td>\n",
       "      <td>41</td>\n",
       "      <td>2</td>\n",
       "      <td>45</td>\n",
       "      <td>56.8</td>\n",
       "      <td>28.6</td>\n",
       "    </tr>\n",
       "    <tr>\n",
       "      <th>499</th>\n",
       "      <td>18</td>\n",
       "      <td>2</td>\n",
       "      <td>45</td>\n",
       "      <td>1</td>\n",
       "      <td>40</td>\n",
       "      <td>43.3</td>\n",
       "      <td>42.1</td>\n",
       "    </tr>\n",
       "  </tbody>\n",
       "</table>\n",
       "<p>500 rows × 7 columns</p>\n",
       "</div>"
      ],
      "text/plain": [
       "     Experience_Years  Education_Level  Age  Job_Role  Work_Hours_per_Week  \\\n",
       "0                   7                4   30         2                   50   \n",
       "1                  20                2   43         2                   32   \n",
       "2                  15                3   25         2                   55   \n",
       "3                  11                3   47         1                   59   \n",
       "4                   8                3   50         1                   52   \n",
       "..                ...              ...  ...       ...                  ...   \n",
       "495                 5                2   58         1                   37   \n",
       "496                 3                2   25         4                   34   \n",
       "497                11                3   49         2                   57   \n",
       "498                11                2   41         2                   45   \n",
       "499                18                2   45         1                   40   \n",
       "\n",
       "     Annual_Income  Salary  \n",
       "0             97.8    28.1  \n",
       "1             69.9    50.9  \n",
       "2             41.2    49.5  \n",
       "3             85.7    37.4  \n",
       "4             35.9    23.4  \n",
       "..             ...     ...  \n",
       "495           67.8    14.3  \n",
       "496           88.5    20.8  \n",
       "497           94.4    29.3  \n",
       "498           56.8    28.6  \n",
       "499           43.3    42.1  \n",
       "\n",
       "[500 rows x 7 columns]"
      ]
     },
     "execution_count": 47,
     "metadata": {},
     "output_type": "execute_result"
    }
   ],
   "source": [
    "df"
   ]
  },
  {
   "cell_type": "code",
   "execution_count": 48,
   "metadata": {},
   "outputs": [],
   "source": [
    "import pandas as pd\n",
    "import numpy as np\n",
    "import seaborn as sns\n",
    "import matplotlib.pyplot as plt\n",
    "\n",
    "import warnings\n",
    "warnings.filterwarnings('ignore')"
   ]
  },
  {
   "cell_type": "markdown",
   "metadata": {},
   "source": [
    "Equation of MultiLinear Regression"
   ]
  },
  {
   "cell_type": "markdown",
   "metadata": {},
   "source": [
    "$$y = m1X1 + m2X2 ... mnXn + b$$"
   ]
  },
  {
   "cell_type": "code",
   "execution_count": 49,
   "metadata": {},
   "outputs": [
    {
     "data": {
      "text/html": [
       "<div>\n",
       "<style scoped>\n",
       "    .dataframe tbody tr th:only-of-type {\n",
       "        vertical-align: middle;\n",
       "    }\n",
       "\n",
       "    .dataframe tbody tr th {\n",
       "        vertical-align: top;\n",
       "    }\n",
       "\n",
       "    .dataframe thead th {\n",
       "        text-align: right;\n",
       "    }\n",
       "</style>\n",
       "<table border=\"1\" class=\"dataframe\">\n",
       "  <thead>\n",
       "    <tr style=\"text-align: right;\">\n",
       "      <th></th>\n",
       "      <th>Experience_Years</th>\n",
       "      <th>Education_Level</th>\n",
       "      <th>Age</th>\n",
       "      <th>Job_Role</th>\n",
       "      <th>Work_Hours_per_Week</th>\n",
       "      <th>Annual_Income</th>\n",
       "      <th>Salary</th>\n",
       "    </tr>\n",
       "  </thead>\n",
       "  <tbody>\n",
       "    <tr>\n",
       "      <th>0</th>\n",
       "      <td>7</td>\n",
       "      <td>4</td>\n",
       "      <td>30</td>\n",
       "      <td>2</td>\n",
       "      <td>50</td>\n",
       "      <td>97.8</td>\n",
       "      <td>28.1</td>\n",
       "    </tr>\n",
       "    <tr>\n",
       "      <th>1</th>\n",
       "      <td>20</td>\n",
       "      <td>2</td>\n",
       "      <td>43</td>\n",
       "      <td>2</td>\n",
       "      <td>32</td>\n",
       "      <td>69.9</td>\n",
       "      <td>50.9</td>\n",
       "    </tr>\n",
       "    <tr>\n",
       "      <th>2</th>\n",
       "      <td>15</td>\n",
       "      <td>3</td>\n",
       "      <td>25</td>\n",
       "      <td>2</td>\n",
       "      <td>55</td>\n",
       "      <td>41.2</td>\n",
       "      <td>49.5</td>\n",
       "    </tr>\n",
       "    <tr>\n",
       "      <th>3</th>\n",
       "      <td>11</td>\n",
       "      <td>3</td>\n",
       "      <td>47</td>\n",
       "      <td>1</td>\n",
       "      <td>59</td>\n",
       "      <td>85.7</td>\n",
       "      <td>37.4</td>\n",
       "    </tr>\n",
       "    <tr>\n",
       "      <th>4</th>\n",
       "      <td>8</td>\n",
       "      <td>3</td>\n",
       "      <td>50</td>\n",
       "      <td>1</td>\n",
       "      <td>52</td>\n",
       "      <td>35.9</td>\n",
       "      <td>23.4</td>\n",
       "    </tr>\n",
       "    <tr>\n",
       "      <th>...</th>\n",
       "      <td>...</td>\n",
       "      <td>...</td>\n",
       "      <td>...</td>\n",
       "      <td>...</td>\n",
       "      <td>...</td>\n",
       "      <td>...</td>\n",
       "      <td>...</td>\n",
       "    </tr>\n",
       "    <tr>\n",
       "      <th>495</th>\n",
       "      <td>5</td>\n",
       "      <td>2</td>\n",
       "      <td>58</td>\n",
       "      <td>1</td>\n",
       "      <td>37</td>\n",
       "      <td>67.8</td>\n",
       "      <td>14.3</td>\n",
       "    </tr>\n",
       "    <tr>\n",
       "      <th>496</th>\n",
       "      <td>3</td>\n",
       "      <td>2</td>\n",
       "      <td>25</td>\n",
       "      <td>4</td>\n",
       "      <td>34</td>\n",
       "      <td>88.5</td>\n",
       "      <td>20.8</td>\n",
       "    </tr>\n",
       "    <tr>\n",
       "      <th>497</th>\n",
       "      <td>11</td>\n",
       "      <td>3</td>\n",
       "      <td>49</td>\n",
       "      <td>2</td>\n",
       "      <td>57</td>\n",
       "      <td>94.4</td>\n",
       "      <td>29.3</td>\n",
       "    </tr>\n",
       "    <tr>\n",
       "      <th>498</th>\n",
       "      <td>11</td>\n",
       "      <td>2</td>\n",
       "      <td>41</td>\n",
       "      <td>2</td>\n",
       "      <td>45</td>\n",
       "      <td>56.8</td>\n",
       "      <td>28.6</td>\n",
       "    </tr>\n",
       "    <tr>\n",
       "      <th>499</th>\n",
       "      <td>18</td>\n",
       "      <td>2</td>\n",
       "      <td>45</td>\n",
       "      <td>1</td>\n",
       "      <td>40</td>\n",
       "      <td>43.3</td>\n",
       "      <td>42.1</td>\n",
       "    </tr>\n",
       "  </tbody>\n",
       "</table>\n",
       "<p>500 rows × 7 columns</p>\n",
       "</div>"
      ],
      "text/plain": [
       "     Experience_Years  Education_Level  Age  Job_Role  Work_Hours_per_Week  \\\n",
       "0                   7                4   30         2                   50   \n",
       "1                  20                2   43         2                   32   \n",
       "2                  15                3   25         2                   55   \n",
       "3                  11                3   47         1                   59   \n",
       "4                   8                3   50         1                   52   \n",
       "..                ...              ...  ...       ...                  ...   \n",
       "495                 5                2   58         1                   37   \n",
       "496                 3                2   25         4                   34   \n",
       "497                11                3   49         2                   57   \n",
       "498                11                2   41         2                   45   \n",
       "499                18                2   45         1                   40   \n",
       "\n",
       "     Annual_Income  Salary  \n",
       "0             97.8    28.1  \n",
       "1             69.9    50.9  \n",
       "2             41.2    49.5  \n",
       "3             85.7    37.4  \n",
       "4             35.9    23.4  \n",
       "..             ...     ...  \n",
       "495           67.8    14.3  \n",
       "496           88.5    20.8  \n",
       "497           94.4    29.3  \n",
       "498           56.8    28.6  \n",
       "499           43.3    42.1  \n",
       "\n",
       "[500 rows x 7 columns]"
      ]
     },
     "execution_count": 49,
     "metadata": {},
     "output_type": "execute_result"
    }
   ],
   "source": [
    "df"
   ]
  },
  {
   "cell_type": "code",
   "execution_count": 50,
   "metadata": {},
   "outputs": [],
   "source": [
    "X = df.drop(columns=['Annual_Income', 'Salary'], axis=1)"
   ]
  },
  {
   "cell_type": "code",
   "execution_count": 51,
   "metadata": {},
   "outputs": [
    {
     "data": {
      "text/html": [
       "<div>\n",
       "<style scoped>\n",
       "    .dataframe tbody tr th:only-of-type {\n",
       "        vertical-align: middle;\n",
       "    }\n",
       "\n",
       "    .dataframe tbody tr th {\n",
       "        vertical-align: top;\n",
       "    }\n",
       "\n",
       "    .dataframe thead th {\n",
       "        text-align: right;\n",
       "    }\n",
       "</style>\n",
       "<table border=\"1\" class=\"dataframe\">\n",
       "  <thead>\n",
       "    <tr style=\"text-align: right;\">\n",
       "      <th></th>\n",
       "      <th>Experience_Years</th>\n",
       "      <th>Education_Level</th>\n",
       "      <th>Age</th>\n",
       "      <th>Job_Role</th>\n",
       "      <th>Work_Hours_per_Week</th>\n",
       "    </tr>\n",
       "  </thead>\n",
       "  <tbody>\n",
       "    <tr>\n",
       "      <th>0</th>\n",
       "      <td>7</td>\n",
       "      <td>4</td>\n",
       "      <td>30</td>\n",
       "      <td>2</td>\n",
       "      <td>50</td>\n",
       "    </tr>\n",
       "    <tr>\n",
       "      <th>1</th>\n",
       "      <td>20</td>\n",
       "      <td>2</td>\n",
       "      <td>43</td>\n",
       "      <td>2</td>\n",
       "      <td>32</td>\n",
       "    </tr>\n",
       "    <tr>\n",
       "      <th>2</th>\n",
       "      <td>15</td>\n",
       "      <td>3</td>\n",
       "      <td>25</td>\n",
       "      <td>2</td>\n",
       "      <td>55</td>\n",
       "    </tr>\n",
       "    <tr>\n",
       "      <th>3</th>\n",
       "      <td>11</td>\n",
       "      <td>3</td>\n",
       "      <td>47</td>\n",
       "      <td>1</td>\n",
       "      <td>59</td>\n",
       "    </tr>\n",
       "    <tr>\n",
       "      <th>4</th>\n",
       "      <td>8</td>\n",
       "      <td>3</td>\n",
       "      <td>50</td>\n",
       "      <td>1</td>\n",
       "      <td>52</td>\n",
       "    </tr>\n",
       "    <tr>\n",
       "      <th>...</th>\n",
       "      <td>...</td>\n",
       "      <td>...</td>\n",
       "      <td>...</td>\n",
       "      <td>...</td>\n",
       "      <td>...</td>\n",
       "    </tr>\n",
       "    <tr>\n",
       "      <th>495</th>\n",
       "      <td>5</td>\n",
       "      <td>2</td>\n",
       "      <td>58</td>\n",
       "      <td>1</td>\n",
       "      <td>37</td>\n",
       "    </tr>\n",
       "    <tr>\n",
       "      <th>496</th>\n",
       "      <td>3</td>\n",
       "      <td>2</td>\n",
       "      <td>25</td>\n",
       "      <td>4</td>\n",
       "      <td>34</td>\n",
       "    </tr>\n",
       "    <tr>\n",
       "      <th>497</th>\n",
       "      <td>11</td>\n",
       "      <td>3</td>\n",
       "      <td>49</td>\n",
       "      <td>2</td>\n",
       "      <td>57</td>\n",
       "    </tr>\n",
       "    <tr>\n",
       "      <th>498</th>\n",
       "      <td>11</td>\n",
       "      <td>2</td>\n",
       "      <td>41</td>\n",
       "      <td>2</td>\n",
       "      <td>45</td>\n",
       "    </tr>\n",
       "    <tr>\n",
       "      <th>499</th>\n",
       "      <td>18</td>\n",
       "      <td>2</td>\n",
       "      <td>45</td>\n",
       "      <td>1</td>\n",
       "      <td>40</td>\n",
       "    </tr>\n",
       "  </tbody>\n",
       "</table>\n",
       "<p>500 rows × 5 columns</p>\n",
       "</div>"
      ],
      "text/plain": [
       "     Experience_Years  Education_Level  Age  Job_Role  Work_Hours_per_Week\n",
       "0                   7                4   30         2                   50\n",
       "1                  20                2   43         2                   32\n",
       "2                  15                3   25         2                   55\n",
       "3                  11                3   47         1                   59\n",
       "4                   8                3   50         1                   52\n",
       "..                ...              ...  ...       ...                  ...\n",
       "495                 5                2   58         1                   37\n",
       "496                 3                2   25         4                   34\n",
       "497                11                3   49         2                   57\n",
       "498                11                2   41         2                   45\n",
       "499                18                2   45         1                   40\n",
       "\n",
       "[500 rows x 5 columns]"
      ]
     },
     "execution_count": 51,
     "metadata": {},
     "output_type": "execute_result"
    }
   ],
   "source": [
    "X"
   ]
  },
  {
   "cell_type": "code",
   "execution_count": 52,
   "metadata": {},
   "outputs": [],
   "source": [
    "y = df['Salary']"
   ]
  },
  {
   "cell_type": "code",
   "execution_count": 53,
   "metadata": {},
   "outputs": [
    {
     "data": {
      "text/plain": [
       "0      28.1\n",
       "1      50.9\n",
       "2      49.5\n",
       "3      37.4\n",
       "4      23.4\n",
       "       ... \n",
       "495    14.3\n",
       "496    20.8\n",
       "497    29.3\n",
       "498    28.6\n",
       "499    42.1\n",
       "Name: Salary, Length: 500, dtype: float64"
      ]
     },
     "execution_count": 53,
     "metadata": {},
     "output_type": "execute_result"
    }
   ],
   "source": [
    "y"
   ]
  },
  {
   "cell_type": "code",
   "execution_count": 54,
   "metadata": {},
   "outputs": [],
   "source": [
    "from sklearn.model_selection import train_test_split\n",
    "from sklearn.metrics import mean_absolute_error, mean_squared_error, r2_score"
   ]
  },
  {
   "cell_type": "code",
   "execution_count": 55,
   "metadata": {},
   "outputs": [],
   "source": [
    "X_train, X_test, y_train, y_test = train_test_split(X, y, test_size=0.2, random_state=42)"
   ]
  },
  {
   "cell_type": "markdown",
   "metadata": {},
   "source": [
    "$$w=(X \n",
    "⊤\n",
    " X) \n",
    "−1\n",
    " X \n",
    "⊤\n",
    " y$$"
   ]
  },
  {
   "cell_type": "markdown",
   "metadata": {},
   "source": [
    "- $X ⊤$ \n",
    ": Transpose of the feature matrix."
   ]
  },
  {
   "cell_type": "markdown",
   "metadata": {},
   "source": [
    "- $(X \n",
    "⊤\n",
    " X) \n",
    "−1\n",
    " :$ Inverse of the product of the transpose of \n",
    "𝑋 and \n",
    "𝑋."
   ]
  },
  {
   "cell_type": "markdown",
   "metadata": {},
   "source": [
    "$$b= \n",
    "y\n",
    "ˉ\n",
    "​\n",
    " − \n",
    "X\n",
    "ˉ\n",
    " ⋅w$$"
   ]
  },
  {
   "cell_type": "markdown",
   "metadata": {},
   "source": [
    "- $y$: Mean of the target values."
   ]
  },
  {
   "cell_type": "markdown",
   "metadata": {},
   "source": [
    "- $X$: Mean of each feature column in the feature matrix."
   ]
  },
  {
   "cell_type": "code",
   "execution_count": 56,
   "metadata": {},
   "outputs": [],
   "source": [
    "class CustomModel:\n",
    "\n",
    "    def __init__(self):\n",
    "        self.coef_ = None\n",
    "        self.intercept_ = None\n",
    "\n",
    "    def fit(self, X_train, y_train):\n",
    "        X_train = np.insert(X_train, 0, 1, axis=1)\n",
    "        \n",
    "        betas = np.linalg.inv(np.dot(X_train.T, X_train)).dot(X_train.T).dot(y_train)\n",
    "        self.intercept_ = betas[0]\n",
    "        self.coef_ = betas[1:]\n",
    "        \n",
    "    def predict(self,X_test):\n",
    "        y_pred = np.dot(X_test, self.coef_) + self.intercept_\n",
    "        return y_pred"
   ]
  },
  {
   "cell_type": "code",
   "execution_count": 57,
   "metadata": {},
   "outputs": [
    {
     "data": {
      "text/plain": [
       "(400, 5)"
      ]
     },
     "execution_count": 57,
     "metadata": {},
     "output_type": "execute_result"
    }
   ],
   "source": [
    "X_train.shape"
   ]
  },
  {
   "cell_type": "code",
   "execution_count": 58,
   "metadata": {},
   "outputs": [
    {
     "data": {
      "text/plain": [
       "array([ 2.00097939,  3.0188576 , -0.01545419,  0.17937832,  0.01589843])"
      ]
     },
     "execution_count": 58,
     "metadata": {},
     "output_type": "execute_result"
    }
   ],
   "source": [
    "np.linalg.inv(np.dot(X_train.T, X_train)).dot(X_train.T).dot(y_train)"
   ]
  },
  {
   "cell_type": "code",
   "execution_count": 59,
   "metadata": {},
   "outputs": [],
   "source": [
    "model = CustomModel()\n",
    "model.fit(X_train, y_train)"
   ]
  },
  {
   "cell_type": "code",
   "execution_count": 60,
   "metadata": {},
   "outputs": [
    {
     "data": {
      "text/plain": [
       "361    47.7\n",
       "73     35.3\n",
       "374    23.8\n",
       "155    24.8\n",
       "104    12.6\n",
       "       ... \n",
       "347    16.8\n",
       "86     11.3\n",
       "75      8.5\n",
       "438    17.4\n",
       "15     15.1\n",
       "Name: Salary, Length: 100, dtype: float64"
      ]
     },
     "execution_count": 60,
     "metadata": {},
     "output_type": "execute_result"
    }
   ],
   "source": [
    "y_test"
   ]
  },
  {
   "cell_type": "code",
   "execution_count": 61,
   "metadata": {},
   "outputs": [],
   "source": [
    "y_pred = model.predict(X_test)"
   ]
  },
  {
   "cell_type": "code",
   "execution_count": 62,
   "metadata": {},
   "outputs": [
    {
     "data": {
      "text/plain": [
       "array([46524.5759329 , 35889.93060519, 34712.26089128, 25844.12717488,\n",
       "        8057.83609886,  7778.59836996, 15078.79208961, 13800.2226955 ,\n",
       "       31889.88933776, 23950.76979129, 11777.76520863, 18711.66086978,\n",
       "       10994.0993121 , 22073.17297875, 22423.6195355 , 15950.28197856,\n",
       "       15745.74443221, 23764.5592944 , 26102.19816732, 41471.16366421,\n",
       "       16620.39696483, 31683.66039716, 35373.13433638, 39007.84356017,\n",
       "       16854.15621264, 41242.76434427, 31953.41880456,  8818.77307881,\n",
       "       30122.89232714, 41579.92302251, 48038.03368771, 48985.77952958,\n",
       "       27659.03993086,  7519.50609914, 40051.96441074, 14262.38987277,\n",
       "       10269.34662477, 36040.87878654, 46068.74265248, 33839.62050983,\n",
       "       37034.89367269, 26878.81274174, 11833.00127471, 13688.15164416,\n",
       "       41788.49764129, 20857.12234341, 26854.63882074, 12256.86189762,\n",
       "        8472.81356553, 39472.79777714, 23963.73471312, 29202.25387913,\n",
       "       22960.11129135, 40931.10398682, 30290.20805407, 14534.74157733,\n",
       "       23003.62231444, 30092.71322033, 43434.89948467, 13769.19053954,\n",
       "       31369.93042528, 17541.77005713, 49929.64375814, 38613.11370801,\n",
       "       30799.52634329, 46347.4579278 ,  9330.01413285, 40660.95111082,\n",
       "       43448.38045032, 41464.70916275, 39695.83562485, 16438.94957514,\n",
       "       36695.70300804, 30645.65549835, 12452.51628774, 48711.86564488,\n",
       "       44760.90686374, 41671.93954648, 15165.62104865, 37580.80087701,\n",
       "       44519.09265092, 41618.0278802 , 24823.46347542, 10101.31347257,\n",
       "       14579.85306397, 20041.87061907, 18349.48286029, 12335.31513474,\n",
       "       23556.81221145,  5413.5562042 , 13150.29079534, 10868.29106661,\n",
       "       41767.65166175,  7707.15176179, 13253.99473427, 20246.77515987,\n",
       "       12494.18906696,  8073.72588403, 10370.38192885, 10582.33138201])"
      ]
     },
     "execution_count": 62,
     "metadata": {},
     "output_type": "execute_result"
    }
   ],
   "source": [
    "y_pred * 1000"
   ]
  },
  {
   "cell_type": "code",
   "execution_count": 63,
   "metadata": {},
   "outputs": [
    {
     "data": {
      "text/plain": [
       "3.948378663417113"
      ]
     },
     "execution_count": 63,
     "metadata": {},
     "output_type": "execute_result"
    }
   ],
   "source": [
    "mean_absolute_error(y_test, y_pred)"
   ]
  },
  {
   "cell_type": "code",
   "execution_count": 64,
   "metadata": {},
   "outputs": [
    {
     "data": {
      "text/plain": [
       "0.8482898787452964"
      ]
     },
     "execution_count": 64,
     "metadata": {},
     "output_type": "execute_result"
    }
   ],
   "source": [
    "r2_score(y_test, y_pred)"
   ]
  },
  {
   "cell_type": "code",
   "execution_count": null,
   "metadata": {},
   "outputs": [],
   "source": []
  }
 ],
 "metadata": {
  "kernelspec": {
   "display_name": "python-new",
   "language": "python",
   "name": "python3"
  },
  "language_info": {
   "codemirror_mode": {
    "name": "ipython",
    "version": 3
   },
   "file_extension": ".py",
   "mimetype": "text/x-python",
   "name": "python",
   "nbconvert_exporter": "python",
   "pygments_lexer": "ipython3",
   "version": "3.12.0"
  }
 },
 "nbformat": 4,
 "nbformat_minor": 2
}
